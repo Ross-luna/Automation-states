{
 "cells": [
  {
   "cell_type": "code",
   "execution_count": 27,
   "metadata": {},
   "outputs": [],
   "source": [
    "import pandas as pd\n",
    "import numpy as np\n",
    "import time\n",
    "from datetime import datetime, timedelta\n",
    "import pytz\n",
    "tz = pytz.timezone('America/Mexico_City')\n",
    "import json\n",
    "import glob\n",
    "import distutils.dir_util\n",
    "\n"
   ]
  },
  {
   "cell_type": "markdown",
   "metadata": {},
   "source": [
    "# Run queries"
   ]
  },
  {
   "cell_type": "code",
   "execution_count": 28,
   "metadata": {},
   "outputs": [],
   "source": [
    "lista = pd.read_csv(\"slp.csv\")"
   ]
  },
  {
   "cell_type": "code",
   "execution_count": 29,
   "metadata": {},
   "outputs": [
    {
     "data": {
      "text/html": [
       "<div>\n",
       "<style scoped>\n",
       "    .dataframe tbody tr th:only-of-type {\n",
       "        vertical-align: middle;\n",
       "    }\n",
       "\n",
       "    .dataframe tbody tr th {\n",
       "        vertical-align: top;\n",
       "    }\n",
       "\n",
       "    .dataframe thead th {\n",
       "        text-align: right;\n",
       "    }\n",
       "</style>\n",
       "<table border=\"1\" class=\"dataframe\">\n",
       "  <thead>\n",
       "    <tr style=\"text-align: right;\">\n",
       "      <th></th>\n",
       "      <th>nombre_conductor</th>\n",
       "      <th>toolsdocument_identificacion_conductor</th>\n",
       "      <th>formato_identificacion_conductor</th>\n",
       "      <th>tipo_de_licencia_conductor</th>\n",
       "      <th>toolsdocument_licencia_conducir_conductor</th>\n",
       "      <th>formato_licencia_conducir_conductor</th>\n",
       "      <th>estado_licencia</th>\n",
       "      <th>toolsdriver_partner_uuid</th>\n",
       "      <th>toolsvehicle_vehicle_uuid</th>\n",
       "      <th>toolsdocument_tarjeta_circulacion</th>\n",
       "      <th>formato_tarjeta_circulacion</th>\n",
       "      <th>tarjeta_circulacion</th>\n",
       "      <th>nombre_propietario</th>\n",
       "      <th>placa</th>\n",
       "      <th>vin</th>\n",
       "      <th>marca</th>\n",
       "      <th>submarca</th>\n",
       "      <th>modelo</th>\n",
       "    </tr>\n",
       "  </thead>\n",
       "  <tbody>\n",
       "    <tr>\n",
       "      <th>0</th>\n",
       "      <td>Benito ESTRADA TORRES</td>\n",
       "      <td>662b92ba-7766-404a-b2f4-e03486ac3275</td>\n",
       "      <td>jpeg</td>\n",
       "      <td>CHOFER</td>\n",
       "      <td>9b1866f7-8ced-4313-ba34-6cfa0de39aa1</td>\n",
       "      <td>jpeg</td>\n",
       "      <td>SL</td>\n",
       "      <td>02ec43ac-d942-46b7-b2f1-b40b2e070514</td>\n",
       "      <td>2c84c8dd-5361-4067-8b78-dc2a5c5a5b59</td>\n",
       "      <td>39fe7f3a-1276-4a71-b4b8-6cf7c6b62840</td>\n",
       "      <td>jpg</td>\n",
       "      <td>13040015104001</td>\n",
       "      <td>BENITO ESTRADA TORRES</td>\n",
       "      <td>VCE006A</td>\n",
       "      <td>3N1CN7AD6GK407223</td>\n",
       "      <td>Nissan</td>\n",
       "      <td>Versa</td>\n",
       "      <td>2016</td>\n",
       "    </tr>\n",
       "    <tr>\n",
       "      <th>1</th>\n",
       "      <td>Gustavo Enrique ALONSO ESCOBEDO</td>\n",
       "      <td>f63ce5f0-02a9-48b1-9f11-449616d99291</td>\n",
       "      <td>jpeg</td>\n",
       "      <td>CHOFER DE SERVICIO PARTICULAR</td>\n",
       "      <td>a075ba64-03f3-4f56-958d-8a3d35c63f8b</td>\n",
       "      <td>jpg</td>\n",
       "      <td>SL</td>\n",
       "      <td>056f633a-2df3-46a1-ad01-8d3ccc17eb28</td>\n",
       "      <td>27a7e6d7-8382-4ba6-bc0a-c1343f567555</td>\n",
       "      <td>c1b8ba3d-8490-4d4d-96ab-2c3a6caa5f03</td>\n",
       "      <td>jpeg</td>\n",
       "      <td>4007413237001</td>\n",
       "      <td>LEISA ILIANA RUIZ RUIZ</td>\n",
       "      <td>VEH535A</td>\n",
       "      <td>LUCGM6541L3110698</td>\n",
       "      <td>Honda</td>\n",
       "      <td>City</td>\n",
       "      <td>2020</td>\n",
       "    </tr>\n",
       "    <tr>\n",
       "      <th>2</th>\n",
       "      <td>Juan Valentin DIAZ MONJARAS</td>\n",
       "      <td>b38a910c-4ecf-4907-90f5-4efc8d8af277</td>\n",
       "      <td>jpeg</td>\n",
       "      <td>CHOFER DE SERVICIO PARTICULAR</td>\n",
       "      <td>47fc7a20-5295-402d-b3cc-34a512f4a606</td>\n",
       "      <td>jpeg</td>\n",
       "      <td>SL</td>\n",
       "      <td>0808d68d-20f3-43d9-b303-5eb775d57ba7</td>\n",
       "      <td>076c0f0d-1809-4562-b60b-7f2e285b15ba</td>\n",
       "      <td>6d0fe656-946d-485e-b335-5d99f5aea297</td>\n",
       "      <td>jpg</td>\n",
       "      <td>3026016894001</td>\n",
       "      <td>JUAN VALENTIN DIAZ MONJARAS</td>\n",
       "      <td>UWS237A</td>\n",
       "      <td>3N1CN7AD3JK410152</td>\n",
       "      <td>Nissan</td>\n",
       "      <td>Versa</td>\n",
       "      <td>2018</td>\n",
       "    </tr>\n",
       "    <tr>\n",
       "      <th>3</th>\n",
       "      <td>Rafael Alejandro REYES VEGA</td>\n",
       "      <td>1a013127-31cf-4314-8394-6baf13450bb3</td>\n",
       "      <td>jpg</td>\n",
       "      <td>CHOFER DE SERVICIO PARTICULAR</td>\n",
       "      <td>b1712597-3460-4579-9240-b5f360627ff3</td>\n",
       "      <td>jpg</td>\n",
       "      <td>SL</td>\n",
       "      <td>0b01e68f-3956-4f09-b71f-cb1881d945e8</td>\n",
       "      <td>b9905daf-e2e7-4c34-9081-0aae873e4633</td>\n",
       "      <td>a8ab5408-bce3-412a-b846-22d9501faace</td>\n",
       "      <td>jpeg</td>\n",
       "      <td>3026049757001</td>\n",
       "      <td>RAFAEL ALEJANDRO REYES VEGA</td>\n",
       "      <td>UWW448B</td>\n",
       "      <td>3KPA35AC0ME369701</td>\n",
       "      <td>Kia</td>\n",
       "      <td>Rio 4</td>\n",
       "      <td>2021</td>\n",
       "    </tr>\n",
       "    <tr>\n",
       "      <th>4</th>\n",
       "      <td>Mishell BERTRAND BARRIOS</td>\n",
       "      <td>de8fce41-6c5d-4a96-84dc-1529e5320e5e</td>\n",
       "      <td>jpg</td>\n",
       "      <td>CHOFER DE SERVICIO PARTICULAR</td>\n",
       "      <td>706f9bfa-98cd-4ab9-b9eb-4c257ed5dbca</td>\n",
       "      <td>jpg</td>\n",
       "      <td>SL</td>\n",
       "      <td>0b1b5d49-c8cf-4c30-a8cb-ebda34fc9fa4</td>\n",
       "      <td>2e253070-e0a1-3be6-bf11-3a5ffbee0a7a</td>\n",
       "      <td>96dc6937-2d33-4a1e-9e10-7bf90a970878</td>\n",
       "      <td>jpeg</td>\n",
       "      <td>94004255741001</td>\n",
       "      <td>MISHELL BERTRAND BARRIOS</td>\n",
       "      <td>UWJ781R</td>\n",
       "      <td>MAJFP1MD3HA128530</td>\n",
       "      <td>Ford</td>\n",
       "      <td>Figo</td>\n",
       "      <td>2017</td>\n",
       "    </tr>\n",
       "  </tbody>\n",
       "</table>\n",
       "</div>"
      ],
      "text/plain": [
       "                  nombre_conductor toolsdocument_identificacion_conductor  \\\n",
       "0            Benito ESTRADA TORRES   662b92ba-7766-404a-b2f4-e03486ac3275   \n",
       "1  Gustavo Enrique ALONSO ESCOBEDO   f63ce5f0-02a9-48b1-9f11-449616d99291   \n",
       "2      Juan Valentin DIAZ MONJARAS   b38a910c-4ecf-4907-90f5-4efc8d8af277   \n",
       "3      Rafael Alejandro REYES VEGA   1a013127-31cf-4314-8394-6baf13450bb3   \n",
       "4         Mishell BERTRAND BARRIOS   de8fce41-6c5d-4a96-84dc-1529e5320e5e   \n",
       "\n",
       "  formato_identificacion_conductor     tipo_de_licencia_conductor  \\\n",
       "0                             jpeg                         CHOFER   \n",
       "1                             jpeg  CHOFER DE SERVICIO PARTICULAR   \n",
       "2                             jpeg  CHOFER DE SERVICIO PARTICULAR   \n",
       "3                              jpg  CHOFER DE SERVICIO PARTICULAR   \n",
       "4                              jpg  CHOFER DE SERVICIO PARTICULAR   \n",
       "\n",
       "  toolsdocument_licencia_conducir_conductor  \\\n",
       "0      9b1866f7-8ced-4313-ba34-6cfa0de39aa1   \n",
       "1      a075ba64-03f3-4f56-958d-8a3d35c63f8b   \n",
       "2      47fc7a20-5295-402d-b3cc-34a512f4a606   \n",
       "3      b1712597-3460-4579-9240-b5f360627ff3   \n",
       "4      706f9bfa-98cd-4ab9-b9eb-4c257ed5dbca   \n",
       "\n",
       "  formato_licencia_conducir_conductor estado_licencia  \\\n",
       "0                                jpeg              SL   \n",
       "1                                 jpg              SL   \n",
       "2                                jpeg              SL   \n",
       "3                                 jpg              SL   \n",
       "4                                 jpg              SL   \n",
       "\n",
       "               toolsdriver_partner_uuid             toolsvehicle_vehicle_uuid  \\\n",
       "0  02ec43ac-d942-46b7-b2f1-b40b2e070514  2c84c8dd-5361-4067-8b78-dc2a5c5a5b59   \n",
       "1  056f633a-2df3-46a1-ad01-8d3ccc17eb28  27a7e6d7-8382-4ba6-bc0a-c1343f567555   \n",
       "2  0808d68d-20f3-43d9-b303-5eb775d57ba7  076c0f0d-1809-4562-b60b-7f2e285b15ba   \n",
       "3  0b01e68f-3956-4f09-b71f-cb1881d945e8  b9905daf-e2e7-4c34-9081-0aae873e4633   \n",
       "4  0b1b5d49-c8cf-4c30-a8cb-ebda34fc9fa4  2e253070-e0a1-3be6-bf11-3a5ffbee0a7a   \n",
       "\n",
       "      toolsdocument_tarjeta_circulacion formato_tarjeta_circulacion  \\\n",
       "0  39fe7f3a-1276-4a71-b4b8-6cf7c6b62840                         jpg   \n",
       "1  c1b8ba3d-8490-4d4d-96ab-2c3a6caa5f03                        jpeg   \n",
       "2  6d0fe656-946d-485e-b335-5d99f5aea297                         jpg   \n",
       "3  a8ab5408-bce3-412a-b846-22d9501faace                        jpeg   \n",
       "4  96dc6937-2d33-4a1e-9e10-7bf90a970878                        jpeg   \n",
       "\n",
       "   tarjeta_circulacion           nombre_propietario    placa  \\\n",
       "0       13040015104001        BENITO ESTRADA TORRES  VCE006A   \n",
       "1        4007413237001       LEISA ILIANA RUIZ RUIZ  VEH535A   \n",
       "2        3026016894001  JUAN VALENTIN DIAZ MONJARAS  UWS237A   \n",
       "3        3026049757001  RAFAEL ALEJANDRO REYES VEGA  UWW448B   \n",
       "4       94004255741001     MISHELL BERTRAND BARRIOS  UWJ781R   \n",
       "\n",
       "                 vin   marca submarca  modelo  \n",
       "0  3N1CN7AD6GK407223  Nissan    Versa    2016  \n",
       "1  LUCGM6541L3110698   Honda     City    2020  \n",
       "2  3N1CN7AD3JK410152  Nissan    Versa    2018  \n",
       "3  3KPA35AC0ME369701     Kia    Rio 4    2021  \n",
       "4  MAJFP1MD3HA128530    Ford     Figo    2017  "
      ]
     },
     "execution_count": 29,
     "metadata": {},
     "output_type": "execute_result"
    }
   ],
   "source": [
    "lista.head()"
   ]
  },
  {
   "cell_type": "code",
   "execution_count": 8,
   "metadata": {},
   "outputs": [
    {
     "data": {
      "text/html": [
       "<div>\n",
       "<style scoped>\n",
       "    .dataframe tbody tr th:only-of-type {\n",
       "        vertical-align: middle;\n",
       "    }\n",
       "\n",
       "    .dataframe tbody tr th {\n",
       "        vertical-align: top;\n",
       "    }\n",
       "\n",
       "    .dataframe thead th {\n",
       "        text-align: right;\n",
       "    }\n",
       "</style>\n",
       "<table border=\"1\" class=\"dataframe\">\n",
       "  <thead>\n",
       "    <tr style=\"text-align: right;\">\n",
       "      <th></th>\n",
       "      <th>nombre_conductor</th>\n",
       "      <th>toolsdocument_identificacion_conductor</th>\n",
       "      <th>formato_identificacion_conductor</th>\n",
       "      <th>tipo_de_licencia_conductor</th>\n",
       "      <th>toolsdocument_licencia_conducir_conductor</th>\n",
       "      <th>formato_licencia_conducir_conductor</th>\n",
       "      <th>estado_licencia</th>\n",
       "      <th>toolsdriver_partner_uuid</th>\n",
       "      <th>toolsvehicle_vehicle_uuid</th>\n",
       "      <th>toolsdocument_tarjeta_circulacion</th>\n",
       "      <th>formato_tarjeta_circulacion</th>\n",
       "      <th>tarjeta_circulacion</th>\n",
       "      <th>nombre_propietario</th>\n",
       "      <th>placa</th>\n",
       "      <th>vin</th>\n",
       "      <th>marca</th>\n",
       "      <th>submarca</th>\n",
       "      <th>modelo</th>\n",
       "    </tr>\n",
       "  </thead>\n",
       "  <tbody>\n",
       "    <tr>\n",
       "      <th>0</th>\n",
       "      <td>Benito ESTRADA TORRES</td>\n",
       "      <td>662b92ba-7766-404a-b2f4-e03486ac3275</td>\n",
       "      <td>jpeg</td>\n",
       "      <td>CHOFER</td>\n",
       "      <td>9b1866f7-8ced-4313-ba34-6cfa0de39aa1</td>\n",
       "      <td>jpeg</td>\n",
       "      <td>SL</td>\n",
       "      <td>02ec43ac-d942-46b7-b2f1-b40b2e070514</td>\n",
       "      <td>2c84c8dd-5361-4067-8b78-dc2a5c5a5b59</td>\n",
       "      <td>39fe7f3a-1276-4a71-b4b8-6cf7c6b62840</td>\n",
       "      <td>jpg</td>\n",
       "      <td>13040015104001</td>\n",
       "      <td>BENITO ESTRADA TORRES</td>\n",
       "      <td>VCE006A</td>\n",
       "      <td>3N1CN7AD6GK407223</td>\n",
       "      <td>Nissan</td>\n",
       "      <td>Versa</td>\n",
       "      <td>2016</td>\n",
       "    </tr>\n",
       "    <tr>\n",
       "      <th>1</th>\n",
       "      <td>Gustavo Enrique ALONSO ESCOBEDO</td>\n",
       "      <td>f63ce5f0-02a9-48b1-9f11-449616d99291</td>\n",
       "      <td>jpeg</td>\n",
       "      <td>CHOFER DE SERVICIO PARTICULAR</td>\n",
       "      <td>a075ba64-03f3-4f56-958d-8a3d35c63f8b</td>\n",
       "      <td>jpg</td>\n",
       "      <td>SL</td>\n",
       "      <td>056f633a-2df3-46a1-ad01-8d3ccc17eb28</td>\n",
       "      <td>27a7e6d7-8382-4ba6-bc0a-c1343f567555</td>\n",
       "      <td>c1b8ba3d-8490-4d4d-96ab-2c3a6caa5f03</td>\n",
       "      <td>jpeg</td>\n",
       "      <td>4007413237001</td>\n",
       "      <td>LEISA ILIANA RUIZ RUIZ</td>\n",
       "      <td>VEH535A</td>\n",
       "      <td>LUCGM6541L3110698</td>\n",
       "      <td>Honda</td>\n",
       "      <td>City</td>\n",
       "      <td>2020</td>\n",
       "    </tr>\n",
       "    <tr>\n",
       "      <th>2</th>\n",
       "      <td>Juan Valentin DIAZ MONJARAS</td>\n",
       "      <td>b38a910c-4ecf-4907-90f5-4efc8d8af277</td>\n",
       "      <td>jpeg</td>\n",
       "      <td>CHOFER DE SERVICIO PARTICULAR</td>\n",
       "      <td>47fc7a20-5295-402d-b3cc-34a512f4a606</td>\n",
       "      <td>jpeg</td>\n",
       "      <td>SL</td>\n",
       "      <td>0808d68d-20f3-43d9-b303-5eb775d57ba7</td>\n",
       "      <td>076c0f0d-1809-4562-b60b-7f2e285b15ba</td>\n",
       "      <td>6d0fe656-946d-485e-b335-5d99f5aea297</td>\n",
       "      <td>jpg</td>\n",
       "      <td>3026016894001</td>\n",
       "      <td>JUAN VALENTIN DIAZ MONJARAS</td>\n",
       "      <td>UWS237A</td>\n",
       "      <td>3N1CN7AD3JK410152</td>\n",
       "      <td>Nissan</td>\n",
       "      <td>Versa</td>\n",
       "      <td>2018</td>\n",
       "    </tr>\n",
       "    <tr>\n",
       "      <th>3</th>\n",
       "      <td>Rafael Alejandro REYES VEGA</td>\n",
       "      <td>1a013127-31cf-4314-8394-6baf13450bb3</td>\n",
       "      <td>jpg</td>\n",
       "      <td>CHOFER DE SERVICIO PARTICULAR</td>\n",
       "      <td>b1712597-3460-4579-9240-b5f360627ff3</td>\n",
       "      <td>jpg</td>\n",
       "      <td>SL</td>\n",
       "      <td>0b01e68f-3956-4f09-b71f-cb1881d945e8</td>\n",
       "      <td>b9905daf-e2e7-4c34-9081-0aae873e4633</td>\n",
       "      <td>a8ab5408-bce3-412a-b846-22d9501faace</td>\n",
       "      <td>jpeg</td>\n",
       "      <td>3026049757001</td>\n",
       "      <td>RAFAEL ALEJANDRO REYES VEGA</td>\n",
       "      <td>UWW448B</td>\n",
       "      <td>3KPA35AC0ME369701</td>\n",
       "      <td>Kia</td>\n",
       "      <td>Rio 4</td>\n",
       "      <td>2021</td>\n",
       "    </tr>\n",
       "    <tr>\n",
       "      <th>4</th>\n",
       "      <td>Mishell BERTRAND BARRIOS</td>\n",
       "      <td>de8fce41-6c5d-4a96-84dc-1529e5320e5e</td>\n",
       "      <td>jpg</td>\n",
       "      <td>CHOFER DE SERVICIO PARTICULAR</td>\n",
       "      <td>706f9bfa-98cd-4ab9-b9eb-4c257ed5dbca</td>\n",
       "      <td>jpg</td>\n",
       "      <td>SL</td>\n",
       "      <td>0b1b5d49-c8cf-4c30-a8cb-ebda34fc9fa4</td>\n",
       "      <td>2e253070-e0a1-3be6-bf11-3a5ffbee0a7a</td>\n",
       "      <td>96dc6937-2d33-4a1e-9e10-7bf90a970878</td>\n",
       "      <td>jpeg</td>\n",
       "      <td>94004255741001</td>\n",
       "      <td>MISHELL BERTRAND BARRIOS</td>\n",
       "      <td>UWJ781R</td>\n",
       "      <td>MAJFP1MD3HA128530</td>\n",
       "      <td>Ford</td>\n",
       "      <td>Figo</td>\n",
       "      <td>2017</td>\n",
       "    </tr>\n",
       "  </tbody>\n",
       "</table>\n",
       "</div>"
      ],
      "text/plain": [
       "                  nombre_conductor toolsdocument_identificacion_conductor  \\\n",
       "0            Benito ESTRADA TORRES   662b92ba-7766-404a-b2f4-e03486ac3275   \n",
       "1  Gustavo Enrique ALONSO ESCOBEDO   f63ce5f0-02a9-48b1-9f11-449616d99291   \n",
       "2      Juan Valentin DIAZ MONJARAS   b38a910c-4ecf-4907-90f5-4efc8d8af277   \n",
       "3      Rafael Alejandro REYES VEGA   1a013127-31cf-4314-8394-6baf13450bb3   \n",
       "4         Mishell BERTRAND BARRIOS   de8fce41-6c5d-4a96-84dc-1529e5320e5e   \n",
       "\n",
       "  formato_identificacion_conductor     tipo_de_licencia_conductor  \\\n",
       "0                             jpeg                         CHOFER   \n",
       "1                             jpeg  CHOFER DE SERVICIO PARTICULAR   \n",
       "2                             jpeg  CHOFER DE SERVICIO PARTICULAR   \n",
       "3                              jpg  CHOFER DE SERVICIO PARTICULAR   \n",
       "4                              jpg  CHOFER DE SERVICIO PARTICULAR   \n",
       "\n",
       "  toolsdocument_licencia_conducir_conductor  \\\n",
       "0      9b1866f7-8ced-4313-ba34-6cfa0de39aa1   \n",
       "1      a075ba64-03f3-4f56-958d-8a3d35c63f8b   \n",
       "2      47fc7a20-5295-402d-b3cc-34a512f4a606   \n",
       "3      b1712597-3460-4579-9240-b5f360627ff3   \n",
       "4      706f9bfa-98cd-4ab9-b9eb-4c257ed5dbca   \n",
       "\n",
       "  formato_licencia_conducir_conductor estado_licencia  \\\n",
       "0                                jpeg              SL   \n",
       "1                                 jpg              SL   \n",
       "2                                jpeg              SL   \n",
       "3                                 jpg              SL   \n",
       "4                                 jpg              SL   \n",
       "\n",
       "               toolsdriver_partner_uuid             toolsvehicle_vehicle_uuid  \\\n",
       "0  02ec43ac-d942-46b7-b2f1-b40b2e070514  2c84c8dd-5361-4067-8b78-dc2a5c5a5b59   \n",
       "1  056f633a-2df3-46a1-ad01-8d3ccc17eb28  27a7e6d7-8382-4ba6-bc0a-c1343f567555   \n",
       "2  0808d68d-20f3-43d9-b303-5eb775d57ba7  076c0f0d-1809-4562-b60b-7f2e285b15ba   \n",
       "3  0b01e68f-3956-4f09-b71f-cb1881d945e8  b9905daf-e2e7-4c34-9081-0aae873e4633   \n",
       "4  0b1b5d49-c8cf-4c30-a8cb-ebda34fc9fa4  2e253070-e0a1-3be6-bf11-3a5ffbee0a7a   \n",
       "\n",
       "      toolsdocument_tarjeta_circulacion formato_tarjeta_circulacion  \\\n",
       "0  39fe7f3a-1276-4a71-b4b8-6cf7c6b62840                         jpg   \n",
       "1  c1b8ba3d-8490-4d4d-96ab-2c3a6caa5f03                        jpeg   \n",
       "2  6d0fe656-946d-485e-b335-5d99f5aea297                         jpg   \n",
       "3  a8ab5408-bce3-412a-b846-22d9501faace                        jpeg   \n",
       "4  96dc6937-2d33-4a1e-9e10-7bf90a970878                        jpeg   \n",
       "\n",
       "   tarjeta_circulacion           nombre_propietario    placa  \\\n",
       "0       13040015104001        BENITO ESTRADA TORRES  VCE006A   \n",
       "1        4007413237001       LEISA ILIANA RUIZ RUIZ  VEH535A   \n",
       "2        3026016894001  JUAN VALENTIN DIAZ MONJARAS  UWS237A   \n",
       "3        3026049757001  RAFAEL ALEJANDRO REYES VEGA  UWW448B   \n",
       "4       94004255741001     MISHELL BERTRAND BARRIOS  UWJ781R   \n",
       "\n",
       "                 vin   marca submarca  modelo  \n",
       "0  3N1CN7AD6GK407223  Nissan    Versa    2016  \n",
       "1  LUCGM6541L3110698   Honda     City    2020  \n",
       "2  3N1CN7AD3JK410152  Nissan    Versa    2018  \n",
       "3  3KPA35AC0ME369701     Kia    Rio 4    2021  \n",
       "4  MAJFP1MD3HA128530    Ford     Figo    2017  "
      ]
     },
     "execution_count": 8,
     "metadata": {},
     "output_type": "execute_result"
    }
   ],
   "source": [
    "lista.head()"
   ]
  },
  {
   "cell_type": "code",
   "execution_count": 5,
   "metadata": {},
   "outputs": [
    {
     "data": {
      "text/plain": [
       "2338"
      ]
     },
     "execution_count": 5,
     "metadata": {},
     "output_type": "execute_result"
    }
   ],
   "source": [
    "len(lista)"
   ]
  },
  {
   "cell_type": "code",
   "execution_count": 40,
   "metadata": {},
   "outputs": [],
   "source": [
    "lista.drop_duplicates(inplace=True)"
   ]
  },
  {
   "cell_type": "code",
   "execution_count": 41,
   "metadata": {},
   "outputs": [],
   "source": [
    "lista = lista.reset_index(drop=True)\n"
   ]
  },
  {
   "cell_type": "code",
   "execution_count": 42,
   "metadata": {},
   "outputs": [
    {
     "data": {
      "text/plain": [
       "estado_licencia\n",
       "AG       1\n",
       "DF       2\n",
       "DU       1\n",
       "GT       1\n",
       "MX       1\n",
       "QE       1\n",
       "SI       1\n",
       "SL    2326\n",
       "TM       2\n",
       "ZA       2\n",
       "dtype: int64"
      ]
     },
     "execution_count": 42,
     "metadata": {},
     "output_type": "execute_result"
    }
   ],
   "source": [
    "lista.groupby('estado_licencia').size()"
   ]
  },
  {
   "cell_type": "code",
   "execution_count": 43,
   "metadata": {},
   "outputs": [],
   "source": [
    "l = lista[lista.modelo >= 2016].copy()"
   ]
  },
  {
   "cell_type": "code",
   "execution_count": 44,
   "metadata": {},
   "outputs": [
    {
     "data": {
      "text/plain": [
       "['estado_licencia',\n",
       " 'formato_identificacion_conductor',\n",
       " 'formato_licencia_conducir_conductor',\n",
       " 'formato_tarjeta_circulacion',\n",
       " 'marca',\n",
       " 'modelo',\n",
       " 'nombre_conductor',\n",
       " 'nombre_propietario',\n",
       " 'placa',\n",
       " 'submarca',\n",
       " 'tarjeta_circulacion',\n",
       " 'tipo_de_licencia_conductor',\n",
       " 'toolsdocument_identificacion_conductor',\n",
       " 'toolsdocument_licencia_conducir_conductor',\n",
       " 'toolsdocument_tarjeta_circulacion',\n",
       " 'toolsdriver_partner_uuid',\n",
       " 'toolsvehicle_vehicle_uuid',\n",
       " 'vin']"
      ]
     },
     "execution_count": 44,
     "metadata": {},
     "output_type": "execute_result"
    }
   ],
   "source": [
    "sorted(l.columns)"
   ]
  },
  {
   "cell_type": "code",
   "execution_count": 45,
   "metadata": {},
   "outputs": [],
   "source": [
    "l.dropna(subset=['placa', 'marca', 'submarca', 'modelo', 'nombre_conductor','nombre_propietario'], inplace=True)"
   ]
  },
  {
   "cell_type": "code",
   "execution_count": 46,
   "metadata": {},
   "outputs": [
    {
     "data": {
      "text/plain": [
       "2330"
      ]
     },
     "execution_count": 46,
     "metadata": {},
     "output_type": "execute_result"
    }
   ],
   "source": [
    "len(l)"
   ]
  },
  {
   "cell_type": "markdown",
   "metadata": {},
   "source": [
    "# Make files\n",
    "---"
   ]
  },
  {
   "cell_type": "code",
   "execution_count": 47,
   "metadata": {},
   "outputs": [],
   "source": [
    "col_files = ['uuid', 'format', 'plate', 'driver', 'document']\n",
    "\n",
    "#Driver docs\n",
    "ine_driver = l[['toolsdocument_identificacion_conductor', 'formato_identificacion_conductor', 'placa', 'nombre_conductor']]\n",
    "lic_driver = l[['toolsdocument_licencia_conducir_conductor', 'formato_licencia_conducir_conductor', 'placa', 'nombre_conductor']]\n",
    "#cnap_driver = l[['toolsdocument_carta_no_antecedentes_conductor', 'formato_carta_no_antecedentes_conductor', 'nombre_completo_socio', 'placa', 'nombre_completo_conductor']]\n",
    "#circ_files = l[['circ_uuid', 'circ_format']]\n",
    "\n",
    "\n",
    "#Partner docs\n",
    "#ine_partner = l[['toolsdocument_identificacion_socio', 'formato_identificacion_socio', 'nombre_completo_socio', 'placa', 'nombre_completo_conductor']]\n",
    "#lic_partner = l[['toolsdocument_licencia_conducir_socio', 'formato_licencia_conducir_socio', 'placa', 'nombre_conductor']]\n",
    "#cnap_partner = l[['toolsdocument_carta_no_antecedentes_socio', 'formato_carta_no_antecedentes_socio', 'nombre_completo_socio', 'placa', 'nombre_completo_conductor']]\n",
    "\n",
    "\n",
    "#Vehicle docs\n",
    "circulacion = l[['toolsdocument_tarjeta_circulacion', 'formato_tarjeta_circulacion', 'placa', 'nombre_conductor']]\n",
    "#seguro = l[['toolsdocument_seguro_vehicular', 'formato_seguro_vehicular', 'nombre_completo_socio', 'placa', 'nombre_completo_conductor']]\n",
    "\n",
    "\n",
    "#Assign document type\n",
    "ine_driver = ine_driver.assign(document_type = 'ine_driver')\n",
    "lic_driver = lic_driver.assign(document_type = 'lic_driver')\n",
    "#cnap_driver = cnap_driver.assign(document_type = 'cnap_driver')\n",
    "#ine_partner = ine_partner.assign(document_type = 'ine_partner')\n",
    "#lic_partner = lic_partner.assign(document_type = 'lic_partner')\n",
    "#cnap_partner = cnap_partner.assign(document_type = 'cnap_partner')\n",
    "circulacion = circulacion.assign(document_type = 'circulacion')\n",
    "#seguro = seguro.assign(document_type = 'seguro')\n",
    "\n",
    "\n",
    "#Rename columns\n",
    "ine_driver.columns = col_files\n",
    "lic_driver.columns = col_files\n",
    "#cnap_driver.columns = col_files\n",
    "#ine_partner.columns = col_files\n",
    "#lic_partner.columns = col_files\n",
    "#cnap_partner.columns = col_files\n",
    "circulacion.columns = col_files\n",
    "#seguro.columns = col_files\n",
    "#circ_files.columns = col_files\n",
    "\n",
    "d = pd.concat([ine_driver, lic_driver, circulacion])\n",
    "#d = pd.concat([ine_files, lic_files, cnap_files, circ_files])"
   ]
  },
  {
   "cell_type": "code",
   "execution_count": 48,
   "metadata": {},
   "outputs": [
    {
     "name": "stdout",
     "output_type": "stream",
     "text": [
      "Workfolder will be: SLP_2021-03-09\n"
     ]
    }
   ],
   "source": [
    "workname = 'SLP_{:%Y-%m-%d}'.format(datetime.now(tz))\n",
    "print('Workfolder will be: {}'.format(workname))"
   ]
  },
  {
   "cell_type": "code",
   "execution_count": 49,
   "metadata": {},
   "outputs": [
    {
     "name": "stdout",
     "output_type": "stream",
     "text": [
      "Created work SLP_2021-03-09\n"
     ]
    }
   ],
   "source": [
    "# create work folder\n",
    "distutils.dir_util.mkpath('output_uber_s3/{}/'.format(workname))\n",
    "distutils.dir_util.mkpath('input_uber_s3/{}/'.format(workname))\n",
    "distutils.dir_util.mkpath('reports/{}/'.format(workname))\n",
    "print('Created work {}'.format(workname))"
   ]
  },
  {
   "cell_type": "markdown",
   "metadata": {},
   "source": [
    "## Chunk list of Docs"
   ]
  },
  {
   "cell_type": "code",
   "execution_count": 50,
   "metadata": {},
   "outputs": [
    {
     "ename": "FileNotFoundError",
     "evalue": "[Errno 2] No such file or directory: 'input_uber_s3/SLP_2021-03-09/slp_csv_chunk_0.csv'",
     "output_type": "error",
     "traceback": [
      "\u001b[1;31m---------------------------------------------------------------------------\u001b[0m",
      "\u001b[1;31mFileNotFoundError\u001b[0m                         Traceback (most recent call last)",
      "\u001b[1;32m<ipython-input-50-6c8445f83d45>\u001b[0m in \u001b[0;36m<module>\u001b[1;34m\u001b[0m\n\u001b[0;32m     13\u001b[0m \u001b[1;33m\u001b[0m\u001b[0m\n\u001b[0;32m     14\u001b[0m \u001b[1;32mfor\u001b[0m \u001b[0mi\u001b[0m \u001b[1;32min\u001b[0m \u001b[0mrange\u001b[0m\u001b[1;33m(\u001b[0m\u001b[0mlen\u001b[0m\u001b[1;33m(\u001b[0m\u001b[0mr\u001b[0m\u001b[1;33m)\u001b[0m \u001b[1;33m-\u001b[0m\u001b[1;36m1\u001b[0m\u001b[1;33m)\u001b[0m\u001b[1;33m:\u001b[0m\u001b[1;33m\u001b[0m\u001b[1;33m\u001b[0m\u001b[0m\n\u001b[1;32m---> 15\u001b[1;33m     \u001b[0mf\u001b[0m\u001b[1;33m[\u001b[0m\u001b[0mr\u001b[0m\u001b[1;33m[\u001b[0m\u001b[0mi\u001b[0m\u001b[1;33m]\u001b[0m\u001b[1;33m:\u001b[0m\u001b[0mr\u001b[0m\u001b[1;33m[\u001b[0m\u001b[0mi\u001b[0m\u001b[1;33m+\u001b[0m\u001b[1;36m1\u001b[0m\u001b[1;33m]\u001b[0m\u001b[1;33m]\u001b[0m\u001b[1;33m.\u001b[0m\u001b[0mto_csv\u001b[0m\u001b[1;33m(\u001b[0m\u001b[1;34m'input_uber_s3/{}/slp_csv_chunk_{}.csv'\u001b[0m\u001b[1;33m.\u001b[0m\u001b[0mformat\u001b[0m\u001b[1;33m(\u001b[0m\u001b[0mworkname\u001b[0m\u001b[1;33m,\u001b[0m \u001b[0mi\u001b[0m\u001b[1;33m)\u001b[0m\u001b[1;33m,\u001b[0m \u001b[0mindex\u001b[0m\u001b[1;33m=\u001b[0m\u001b[1;32mFalse\u001b[0m\u001b[1;33m)\u001b[0m\u001b[1;33m\u001b[0m\u001b[1;33m\u001b[0m\u001b[0m\n\u001b[0m\u001b[0;32m     16\u001b[0m \u001b[1;33m\u001b[0m\u001b[0m\n",
      "\u001b[1;32m~\\Anaconda3\\lib\\site-packages\\pandas\\core\\generic.py\u001b[0m in \u001b[0;36mto_csv\u001b[1;34m(self, path_or_buf, sep, na_rep, float_format, columns, header, index, index_label, mode, encoding, compression, quoting, quotechar, line_terminator, chunksize, date_format, doublequote, escapechar, decimal, errors)\u001b[0m\n\u001b[0;32m   3168\u001b[0m             \u001b[0mdecimal\u001b[0m\u001b[1;33m=\u001b[0m\u001b[0mdecimal\u001b[0m\u001b[1;33m,\u001b[0m\u001b[1;33m\u001b[0m\u001b[1;33m\u001b[0m\u001b[0m\n\u001b[0;32m   3169\u001b[0m         )\n\u001b[1;32m-> 3170\u001b[1;33m         \u001b[0mformatter\u001b[0m\u001b[1;33m.\u001b[0m\u001b[0msave\u001b[0m\u001b[1;33m(\u001b[0m\u001b[1;33m)\u001b[0m\u001b[1;33m\u001b[0m\u001b[1;33m\u001b[0m\u001b[0m\n\u001b[0m\u001b[0;32m   3171\u001b[0m \u001b[1;33m\u001b[0m\u001b[0m\n\u001b[0;32m   3172\u001b[0m         \u001b[1;32mif\u001b[0m \u001b[0mpath_or_buf\u001b[0m \u001b[1;32mis\u001b[0m \u001b[1;32mNone\u001b[0m\u001b[1;33m:\u001b[0m\u001b[1;33m\u001b[0m\u001b[1;33m\u001b[0m\u001b[0m\n",
      "\u001b[1;32m~\\Anaconda3\\lib\\site-packages\\pandas\\io\\formats\\csvs.py\u001b[0m in \u001b[0;36msave\u001b[1;34m(self)\u001b[0m\n\u001b[0;32m    183\u001b[0m             \u001b[0mclose\u001b[0m \u001b[1;33m=\u001b[0m \u001b[1;32mFalse\u001b[0m\u001b[1;33m\u001b[0m\u001b[1;33m\u001b[0m\u001b[0m\n\u001b[0;32m    184\u001b[0m         \u001b[1;32melse\u001b[0m\u001b[1;33m:\u001b[0m\u001b[1;33m\u001b[0m\u001b[1;33m\u001b[0m\u001b[0m\n\u001b[1;32m--> 185\u001b[1;33m             f, handles = get_handle(\n\u001b[0m\u001b[0;32m    186\u001b[0m                 \u001b[0mself\u001b[0m\u001b[1;33m.\u001b[0m\u001b[0mpath_or_buf\u001b[0m\u001b[1;33m,\u001b[0m\u001b[1;33m\u001b[0m\u001b[1;33m\u001b[0m\u001b[0m\n\u001b[0;32m    187\u001b[0m                 \u001b[0mself\u001b[0m\u001b[1;33m.\u001b[0m\u001b[0mmode\u001b[0m\u001b[1;33m,\u001b[0m\u001b[1;33m\u001b[0m\u001b[1;33m\u001b[0m\u001b[0m\n",
      "\u001b[1;32m~\\Anaconda3\\lib\\site-packages\\pandas\\io\\common.py\u001b[0m in \u001b[0;36mget_handle\u001b[1;34m(path_or_buf, mode, encoding, compression, memory_map, is_text, errors)\u001b[0m\n\u001b[0;32m    491\u001b[0m         \u001b[1;32mif\u001b[0m \u001b[0mencoding\u001b[0m\u001b[1;33m:\u001b[0m\u001b[1;33m\u001b[0m\u001b[1;33m\u001b[0m\u001b[0m\n\u001b[0;32m    492\u001b[0m             \u001b[1;31m# Encoding\u001b[0m\u001b[1;33m\u001b[0m\u001b[1;33m\u001b[0m\u001b[1;33m\u001b[0m\u001b[0m\n\u001b[1;32m--> 493\u001b[1;33m             \u001b[0mf\u001b[0m \u001b[1;33m=\u001b[0m \u001b[0mopen\u001b[0m\u001b[1;33m(\u001b[0m\u001b[0mpath_or_buf\u001b[0m\u001b[1;33m,\u001b[0m \u001b[0mmode\u001b[0m\u001b[1;33m,\u001b[0m \u001b[0mencoding\u001b[0m\u001b[1;33m=\u001b[0m\u001b[0mencoding\u001b[0m\u001b[1;33m,\u001b[0m \u001b[0merrors\u001b[0m\u001b[1;33m=\u001b[0m\u001b[0merrors\u001b[0m\u001b[1;33m,\u001b[0m \u001b[0mnewline\u001b[0m\u001b[1;33m=\u001b[0m\u001b[1;34m\"\"\u001b[0m\u001b[1;33m)\u001b[0m\u001b[1;33m\u001b[0m\u001b[1;33m\u001b[0m\u001b[0m\n\u001b[0m\u001b[0;32m    494\u001b[0m         \u001b[1;32melif\u001b[0m \u001b[0mis_text\u001b[0m\u001b[1;33m:\u001b[0m\u001b[1;33m\u001b[0m\u001b[1;33m\u001b[0m\u001b[0m\n\u001b[0;32m    495\u001b[0m             \u001b[1;31m# No explicit encoding\u001b[0m\u001b[1;33m\u001b[0m\u001b[1;33m\u001b[0m\u001b[1;33m\u001b[0m\u001b[0m\n",
      "\u001b[1;31mFileNotFoundError\u001b[0m: [Errno 2] No such file or directory: 'input_uber_s3/SLP_2021-03-09/slp_csv_chunk_0.csv'"
     ]
    }
   ],
   "source": [
    "q = d.copy()\n",
    "f = q.copy()\n",
    "\n",
    "q = q.set_index('uuid')\n",
    "q = q.sort_index()\n",
    "\n",
    "f = f[['uuid', 'format']]\n",
    "f = f[~f.uuid.duplicated(keep='first')]\n",
    "f = f.dropna()\n",
    "\n",
    "r = list(range(0,len(f), 10000))\n",
    "r.append(len(f))\n",
    "\n",
    "for i in range(len(r) -1):\n",
    "    f[r[i]:r[i+1]].to_csv('input_uber_s3/{}/slp_csv_chunk_{}.csv'.format(workname, i), index=False)\n",
    "    \n"
   ]
  },
  {
   "cell_type": "markdown",
   "metadata": {},
   "source": [
    "Now, go to Alexandria and use the files generated under the `input_uber_s3` folder to generate the S3 links to downlaod the documents.\n",
    "\n",
    "\n",
    "## Ingest S3 links"
   ]
  },
  {
   "cell_type": "code",
   "execution_count": 32,
   "metadata": {},
   "outputs": [
    {
     "data": {
      "text/plain": [
       "0"
      ]
     },
     "execution_count": 32,
     "metadata": {},
     "output_type": "execute_result"
    }
   ],
   "source": [
    "digest_list = glob.glob('output_uber_s3/{}/*.csv'.format(workname))\n",
    "\n",
    "list_ = []\n",
    "for i in digest_list:\n",
    "    df = pd.read_csv(i)\n",
    "    list_.append(df)\n",
    "li = pd.concat(list_)\n",
    "li = li[~li.UUID.duplicated(keep='first')]\n",
    "\n",
    "len(q[(~q.index.isin(li.UUID))]) # number of files not found in the full list of documents"
   ]
  },
  {
   "cell_type": "markdown",
   "metadata": {},
   "source": [
    "## Make Pickle"
   ]
  },
  {
   "cell_type": "code",
   "execution_count": 33,
   "metadata": {},
   "outputs": [
    {
     "name": "stdout",
     "output_type": "stream",
     "text": [
      "Wall time: 606 ms\n"
     ]
    }
   ],
   "source": [
    "%%time\n",
    "ll = li.to_dict(orient='records') \n",
    "\n",
    "for x,i in enumerate(ll):\n",
    "    p = q.loc[i['UUID']]\n",
    "    if isinstance(p, pd.core.series.Series):\n",
    "        ll[x]['files'] = [p.to_dict()]\n",
    "    else:\n",
    "        ll[x]['files'] = p.to_dict(orient='records')"
   ]
  },
  {
   "cell_type": "code",
   "execution_count": 34,
   "metadata": {},
   "outputs": [],
   "source": [
    "pickle_ = 'reports/{}/SLP_{:%Y-%m-%d}.pickle'.format(workname, datetime.now(tz))\n",
    "pi = pd.to_pickle(ll, pickle_)"
   ]
  },
  {
   "cell_type": "markdown",
   "metadata": {},
   "source": [
    "## Download!\n",
    "\n",
    "Now, use the script `fetcher.py` to download the files to your computer (or hard drive). You will need to:\n",
    "- Put the script in the same folder as the pickle file\n",
    "- Open the Terminal and run the script. `python fetcher.py <pickle> <download folder>`\n",
    "    - Example: `python fetcher.py the_pickle.p /Volumes/HDRIVE/Regulatory/GDL`\n",
    "    - Hint: To get the path of folder, navigate to the folder and use the `pwd` to print the route"
   ]
  },
  {
   "cell_type": "code",
   "execution_count": 35,
   "metadata": {},
   "outputs": [],
   "source": [
    "l[['toolsvehicle_vehicle_uuid', 'placa','vin', 'marca', 'submarca', 'modelo', 'nombre_conductor','nombre_propietario']].to_excel('reports/{}/lista_de_conductores_slp_{:%Y-%m-%d}.xlsx'.format(workname, datetime.now(tz)), encoding='UTF-8')\n"
   ]
  }
 ],
 "metadata": {
  "kernelspec": {
   "display_name": "Python 3",
   "language": "python",
   "name": "python3"
  },
  "language_info": {
   "codemirror_mode": {
    "name": "ipython",
    "version": 3
   },
   "file_extension": ".py",
   "mimetype": "text/x-python",
   "name": "python",
   "nbconvert_exporter": "python",
   "pygments_lexer": "ipython3",
   "version": "3.8.5"
  }
 },
 "nbformat": 4,
 "nbformat_minor": 4
}
